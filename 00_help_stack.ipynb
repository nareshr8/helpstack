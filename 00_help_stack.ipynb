{
 "cells": [
  {
   "cell_type": "code",
   "execution_count": null,
   "id": "c8c48952",
   "metadata": {},
   "outputs": [],
   "source": [
    "# default_exp help_stack"
   ]
  },
  {
   "cell_type": "markdown",
   "id": "8e373f84",
   "metadata": {},
   "source": [
    "# Help Stack\n",
    "> A library that provides relevant insights about the errors that occur by providing useful links looking at stack trace"
   ]
  },
  {
   "cell_type": "code",
   "execution_count": null,
   "id": "6d6fe285",
   "metadata": {},
   "outputs": [],
   "source": [
    "#export\n",
    "from functools import wraps\n",
    "from IPython.display import display, Markdown\n",
    "from ipywidgets import Tab,Text,Label,Output\n",
    "import pkg_resources\n",
    "import traceback\n",
    "from ghapi.all import GhApi\n",
    "\n",
    "\n",
    "api = GhApi()\n",
    "\n",
    "def help_stack(func):\n",
    "    '''\n",
    "    The Decorator to be added on top of the function that provides useful insights when an issue occurs in the function\n",
    "    '''\n",
    "#     @wraps\n",
    "    def hs(*args,**kwargs):\n",
    "        import requests\n",
    "        val = -1\n",
    "        try:\n",
    "            return func(*args, **kwargs)\n",
    "        except Exception as e:\n",
    "            tab=Tab()\n",
    "            \n",
    "            search_terms=e.__str__()\n",
    "            exception_msg = Output()\n",
    "            with exception_msg:\n",
    "                print(traceback.format_exc())\n",
    "            response=requests.get(f'https://api.stackexchange.com/2.3/search?order=desc&sort=activity&tagged=python&intitle={search_terms}&site=stackoverflow')\n",
    "            stack_overflow_msg = Output()\n",
    "            with stack_overflow_msg:\n",
    "                for item in response.json()['items']:\n",
    "                    if item['is_answered']:\n",
    "                        display(Markdown(f\"- [{item['title']}]({item['link']})\"))\n",
    "            github_msg = Output()\n",
    "            packages=[p.project_name for p in pkg_resources.working_set]\n",
    "            github_tabs=Tab()\n",
    "            github_outputs=[]\n",
    "            i=0\n",
    "            for package in packages:\n",
    "                pypi_resp=requests.get(f'https://pypi.org/pypi/{package}/json')\n",
    "                if pypi_resp.json()['info']['home_page'].startswith('https://github.com/'):\n",
    "                    repo=pypi_resp.json()['info']['home_page'].split('https://github.com/')[1].strip()\n",
    "                    try:\n",
    "                        result=api.search.issues_and_pull_requests(f'{search_terms}+repo:{repo}')\n",
    "                        if result['total_count']>0:\n",
    "                            github_tabs.set_title(i,package)\n",
    "                            output_val=Output()\n",
    "                            with output_val:\n",
    "                                for item in result['items']:\n",
    "                                    display(Markdown(f\"- [{item['title']}]({item['html_url']})\"))\n",
    "                            github_outputs.append(output_val)\n",
    "                            i+=1\n",
    "                    except Exception as e:\n",
    "                        pass\n",
    "            github_tabs.children=github_outputs\n",
    "            with github_msg:\n",
    "                display(github_tabs)\n",
    "                \n",
    "            tab.children = [exception_msg,stack_overflow_msg,github_msg]\n",
    "            tab.set_title(0,\"Stack Trace\")\n",
    "            tab.set_title(1,\"Stack Overflow\")\n",
    "            tab.set_title(2,\"Github Issues\")\n",
    "            display(tab)\n",
    "    return hs"
   ]
  },
  {
   "cell_type": "code",
   "execution_count": null,
   "id": "8fd80736",
   "metadata": {},
   "outputs": [
    {
     "data": {
      "application/vnd.jupyter.widget-view+json": {
       "model_id": "664ea37c7c7f48d6960bb9b319120325",
       "version_major": 2,
       "version_minor": 0
      },
      "text/plain": [
       "Tab(children=(Output(), Output(), Output()), _titles={'0': 'Stack Trace', '1': 'Stack Overflow', '2': 'Github …"
      ]
     },
     "metadata": {},
     "output_type": "display_data"
    }
   ],
   "source": [
    "@help_stack\n",
    "def div_by_zero(a):\n",
    "    return a/0\n",
    "\n",
    "div_by_zero(12)"
   ]
  },
  {
   "cell_type": "code",
   "execution_count": null,
   "id": "c14a2fdb",
   "metadata": {},
   "outputs": [],
   "source": []
  }
 ],
 "metadata": {
  "kernelspec": {
   "display_name": "Python 3 (ipykernel)",
   "language": "python",
   "name": "python3"
  }
 },
 "nbformat": 4,
 "nbformat_minor": 5
}
