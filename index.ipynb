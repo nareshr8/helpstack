{
 "cells": [
  {
   "cell_type": "code",
   "execution_count": null,
   "metadata": {},
   "outputs": [],
   "source": [
    "#hide\n",
    "from helpstack.help_stack import *"
   ]
  },
  {
   "cell_type": "markdown",
   "metadata": {},
   "source": [
    "# HelpStack\n",
    "\n",
    "> The Library to help developers who fight with the stack trace of errors"
   ]
  },
  {
   "cell_type": "markdown",
   "metadata": {},
   "source": [
    "## Install"
   ]
  },
  {
   "cell_type": "markdown",
   "metadata": {},
   "source": [
    "`pip install helpstack`"
   ]
  },
  {
   "cell_type": "markdown",
   "metadata": {},
   "source": [
    "## How to use"
   ]
  },
  {
   "cell_type": "markdown",
   "metadata": {},
   "source": [
    "After you install the library, we can use the decorator to simply get relevant links about the issue in jupyter notebook (or any ipython notebooks)\n",
    "\n",
    "We do the following:\n",
    "- Go through Stackoverflow and get top answered results that are relevent to this stack trace\n",
    "- Get all libraries that are available in the environment and search its github issues that are relevent to its stack trace."
   ]
  },
  {
   "cell_type": "code",
   "execution_count": null,
   "metadata": {},
   "outputs": [
    {
     "data": {
      "application/vnd.jupyter.widget-view+json": {
       "model_id": "b9d40c53a3c7438aac8242e6e022f8ed",
       "version_major": 2,
       "version_minor": 0
      },
      "text/plain": [
       "Tab(children=(Output(), Output(), Output()), _titles={'0': 'Stack Trace', '1': 'Stack Overflow', '2': 'Github …"
      ]
     },
     "metadata": {},
     "output_type": "display_data"
    }
   ],
   "source": [
    "@help_stack\n",
    "def div_by_zero(a):\n",
    "    return a/0\n",
    "\n",
    "div_by_zero(12)"
   ]
  },
  {
   "cell_type": "markdown",
   "metadata": {},
   "source": [
    "![Sample Image](./tab_view.png)"
   ]
  },
  {
   "cell_type": "markdown",
   "metadata": {},
   "source": [
    "## Areas of improvement / TODO list:\n",
    "- Add additional Searches with results from other relevent sites\n",
    "- Ease logging of github issues from the same notebook if the user feels its an issue in the library\n",
    "- Improve accuracy of matches with results by using ML algorithms (have to read through couple of papers on the same)\n",
    "- Performance improvement of the results as there are lots of network calls involved\n",
    "- Adding compatibility to other IDEs/Platforms/ Languages"
   ]
  }
 ],
 "metadata": {
  "kernelspec": {
   "display_name": "Python 3 (ipykernel)",
   "language": "python",
   "name": "python3"
  }
 },
 "nbformat": 4,
 "nbformat_minor": 2
}
